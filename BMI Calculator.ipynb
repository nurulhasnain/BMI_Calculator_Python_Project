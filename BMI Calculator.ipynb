{
 "cells": [
  {
   "cell_type": "code",
   "execution_count": 13,
   "id": "f2771df1",
   "metadata": {},
   "outputs": [
    {
     "name": "stdout",
     "output_type": "stream",
     "text": [
      "Name: Nurul\n",
      "Age: 23\n",
      "Gender: Male\n",
      "Enter your weight in kg: 62\n",
      "Enter your Height in cm: 177\n",
      "19.8\n",
      "Nurul, you are Normal\n"
     ]
    }
   ],
   "source": [
    "                                #BMI Calculator\n",
    "\n",
    "#Basic Details\n",
    "Name = input(\"Name: \" )\n",
    "\n",
    "Age = int(input(\"Age: \"))\n",
    "if (Age<2):\n",
    "    print(\"Not Valid\")\n",
    "else:    \n",
    "    Gender = input(\"Gender: \")   \n",
    "    Weight = int(input(\"Enter your weight in kg: \"))\n",
    "    if(Weight<10):\n",
    "        print(\"Not Valid\")\n",
    "    else:\n",
    "        Height = int(input(\"Enter your Height in cm: \"))\n",
    "        if(Height<60):\n",
    "            print(\"Not Valid\")\n",
    "#BMI\n",
    "BMI = (Weight/Height**2)*10000\n",
    "print(round(BMI, 1))\n",
    "if BMI >0:\n",
    "    if (BMI<16):\n",
    "        print(Name + \",\" + \" \" + \"you are Under Weight & Severely Thin\")\n",
    "    elif (BMI<17):\n",
    "        print(Name + \",\" + \" \" + \"you are Under Weight & Moderately Thin\")\n",
    "    elif (BMI<18.5):\n",
    "        print(Name + \",\" + \" \" + \"you are Under Weight & Moderately Thin\")\n",
    "    elif (BMI<25):\n",
    "        print(Name + \",\" + \" \" + \"you are Normal\")\n",
    "    elif (BMI<30):\n",
    "        print(Name + \",\" + \" \" + \"you are Overweight\")\n",
    "    elif (BMI<35):\n",
    "        print(Name + \",\" + \" \" + \"you are Overweight & Obese Class I\")\n",
    "    elif (BMI<40):\n",
    "        print(Name + \",\" + \" \" + \"you are Overweight & Obese Class II\")\n",
    "    else:\n",
    "        print(Name + \",\" + \" \" + \"you are Overweight & Obese Class III\")\n",
    "else :\n",
    "    print(\"Not Valid\")"
   ]
  },
  {
   "cell_type": "code",
   "execution_count": null,
   "id": "094a3491",
   "metadata": {},
   "outputs": [],
   "source": []
  },
  {
   "cell_type": "code",
   "execution_count": null,
   "id": "210fc704",
   "metadata": {},
   "outputs": [],
   "source": []
  },
  {
   "cell_type": "code",
   "execution_count": null,
   "id": "15370f7c",
   "metadata": {},
   "outputs": [],
   "source": []
  },
  {
   "cell_type": "code",
   "execution_count": null,
   "id": "c1c72d65",
   "metadata": {},
   "outputs": [],
   "source": []
  },
  {
   "cell_type": "code",
   "execution_count": null,
   "id": "8bdae05b",
   "metadata": {},
   "outputs": [],
   "source": []
  },
  {
   "cell_type": "code",
   "execution_count": null,
   "id": "64bfb76d",
   "metadata": {},
   "outputs": [],
   "source": []
  },
  {
   "cell_type": "code",
   "execution_count": null,
   "id": "a9ec3a2a",
   "metadata": {},
   "outputs": [],
   "source": []
  },
  {
   "cell_type": "code",
   "execution_count": null,
   "id": "55906de4",
   "metadata": {},
   "outputs": [],
   "source": []
  },
  {
   "cell_type": "code",
   "execution_count": null,
   "id": "0dbdc7ac",
   "metadata": {},
   "outputs": [],
   "source": []
  },
  {
   "cell_type": "code",
   "execution_count": null,
   "id": "a74a3a24",
   "metadata": {},
   "outputs": [],
   "source": []
  },
  {
   "cell_type": "code",
   "execution_count": null,
   "id": "0ac2c287",
   "metadata": {},
   "outputs": [],
   "source": []
  },
  {
   "cell_type": "code",
   "execution_count": null,
   "id": "c3e9b50a",
   "metadata": {},
   "outputs": [],
   "source": []
  },
  {
   "cell_type": "code",
   "execution_count": null,
   "id": "dc7fa373",
   "metadata": {},
   "outputs": [],
   "source": []
  },
  {
   "cell_type": "code",
   "execution_count": null,
   "id": "60894065",
   "metadata": {},
   "outputs": [],
   "source": []
  },
  {
   "cell_type": "code",
   "execution_count": null,
   "id": "8f8e7334",
   "metadata": {},
   "outputs": [],
   "source": []
  },
  {
   "cell_type": "code",
   "execution_count": null,
   "id": "7a809d33",
   "metadata": {},
   "outputs": [],
   "source": []
  },
  {
   "cell_type": "code",
   "execution_count": null,
   "id": "62ea6898",
   "metadata": {},
   "outputs": [],
   "source": []
  },
  {
   "cell_type": "code",
   "execution_count": null,
   "id": "b4bfd0b2",
   "metadata": {},
   "outputs": [],
   "source": []
  },
  {
   "cell_type": "code",
   "execution_count": null,
   "id": "81a423b4",
   "metadata": {},
   "outputs": [],
   "source": []
  }
 ],
 "metadata": {
  "kernelspec": {
   "display_name": "Python 3 (ipykernel)",
   "language": "python",
   "name": "python3"
  },
  "language_info": {
   "codemirror_mode": {
    "name": "ipython",
    "version": 3
   },
   "file_extension": ".py",
   "mimetype": "text/x-python",
   "name": "python",
   "nbconvert_exporter": "python",
   "pygments_lexer": "ipython3",
   "version": "3.11.4"
  }
 },
 "nbformat": 4,
 "nbformat_minor": 5
}
